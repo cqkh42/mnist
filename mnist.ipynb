{
 "cells": [
  {
   "cell_type": "code",
   "metadata": {
    "tags": [],
    "cell_id": "00000-4a305320-9e34-4d41-9893-a4a1a9650725",
    "deepnote_to_be_reexecuted": false,
    "source_hash": "ef742b95",
    "execution_start": 1622712279478,
    "execution_millis": 2924,
    "deepnote_cell_type": "code"
   },
   "source": "import fastai.vision.all as vision\nfrom PIL import Image\nimport torch\n\nimport numpy as np\nimport torch.nn.functional as F\n# from fastbook import *\n\nfrom meanclassifier import MeanClassifier",
   "execution_count": null,
   "outputs": []
  },
  {
   "cell_type": "code",
   "metadata": {
    "tags": [],
    "cell_id": "00001-6cbc677e-f82a-4d72-92c9-95794b5a58ad",
    "deepnote_to_be_reexecuted": false,
    "source_hash": "9a101119",
    "execution_start": 1622712283093,
    "execution_millis": 3,
    "deepnote_cell_type": "code"
   },
   "source": "def image_to_tensor(img_file):\n    img = Image.open(img_file)\n    as_array = np.array(img)\n    as_tensor = torch.from_numpy(as_array)\n    return as_tensor",
   "execution_count": null,
   "outputs": []
  },
  {
   "cell_type": "code",
   "metadata": {
    "tags": [],
    "cell_id": "00001-140fef2f-5057-4a7e-9632-5fee2bd7c367",
    "deepnote_to_be_reexecuted": false,
    "source_hash": "d7b767b3",
    "execution_start": 1622712347913,
    "execution_millis": 5068,
    "deepnote_cell_type": "code"
   },
   "source": "path = vision.untar_data(vision.URLs.MNIST_SAMPLE)\n\ntrain_threes = (path/'train'/'3').ls().sorted()\ntrain_threes = [image_to_tensor(img) for img in train_threes]\ntrain_threes = torch.stack(train_threes).float() / 255\n\ntrain_sevens = (path/'train'/'7').ls().sorted()\ntrain_sevens = [image_to_tensor(img) for img in train_sevens]\ntrain_sevens = torch.stack(train_sevens).float() / 255\n\ntest_threes = (path/'valid'/'3').ls().sorted()\ntest_threes = [image_to_tensor(img) for img in test_threes]\ntest_threes = torch.stack(test_threes).float() / 255\n\ntest_sevens = (path/'valid'/'7').ls().sorted()\ntest_sevens = [image_to_tensor(img) for img in test_sevens]\ntest_sevens = torch.stack(test_sevens).float() / 255\n\nX_train = torch.cat((train_sevens, train_threes))\ny_train = torch.from_numpy(np.array([0] * len(train_sevens) + [1] * len(train_threes)))\n\nX_test = torch.cat((test_sevens, test_threes))\ny_test = torch.from_numpy(np.array([0] * len(test_sevens) + [1] * len(test_threes)))",
   "execution_count": null,
   "outputs": []
  },
  {
   "cell_type": "code",
   "metadata": {
    "tags": [],
    "cell_id": "00003-61080c04-6972-4b67-8aee-e21e4f8385ce",
    "deepnote_to_be_reexecuted": false,
    "source_hash": "92e5ab28",
    "execution_start": 1622712421697,
    "execution_millis": 182,
    "deepnote_cell_type": "code"
   },
   "source": "mae_clf = MeanClassifier(metric='mae')\nmae_clf.fit(X_train, y_train)\nmae_clf.show_means()\n\nmse_clf = MeanClassifier(metric='mse')\nmse_clf.fit(X_train, y_train)\nprint(f'mae: {mae_clf.score(X_test, y_test)}')\nprint(f'mse: {mse_clf.score(X_test, y_test)}')",
   "execution_count": null,
   "outputs": [
    {
     "name": "stdout",
     "text": "mae: 0.9514229893684387\nmse: 0.9661432504653931\n",
     "output_type": "stream"
    },
    {
     "data": {
      "text/plain": "<Figure size 72x72 with 1 Axes>",
      "image/png": "[encoded data removed]"
     },
     "metadata": {
      "needs_background": "light",
      "image/png": {
       "width": 68,
       "height": 68
      }
     },
     "output_type": "display_data"
    },
    {
     "data": {
      "text/plain": "<Figure size 72x72 with 1 Axes>",
      "image/png": "[encoded data removed]"
     },
     "metadata": {
      "needs_background": "light",
      "image/png": {
       "width": 68,
       "height": 68
      }
     },
     "output_type": "display_data"
    }
   ]
  },
  {
   "cell_type": "code",
   "metadata": {
    "tags": [],
    "cell_id": "00012-1441c3a0-1ca0-4be6-8790-712ead0ddb77",
    "deepnote_to_be_reexecuted": false,
    "source_hash": "5ee253c2",
    "execution_start": 1622715600408,
    "execution_millis": 0,
    "deepnote_cell_type": "code"
   },
   "source": "t = torch.Tensor([3.]).requires_grad_()",
   "execution_count": null,
   "outputs": []
  },
  {
   "cell_type": "code",
   "metadata": {
    "tags": [],
    "cell_id": "00006-467982fa-e82a-45ea-8d9d-870982763944",
    "deepnote_to_be_reexecuted": false,
    "source_hash": "5251c382",
    "execution_start": 1622715648479,
    "execution_millis": 8,
    "deepnote_cell_type": "code"
   },
   "source": "def f(x):\n    return x ** 2\n\nyt = f(t)\nyt\n\nxt = torch.Tensor([3.]).requires_grad_()\nyt = f(xt)\nyt",
   "execution_count": null,
   "outputs": [
    {
     "output_type": "execute_result",
     "execution_count": 48,
     "data": {
      "text/plain": "tensor([9.], grad_fn=<PowBackward0>)"
     },
     "metadata": {}
    }
   ]
  },
  {
   "cell_type": "code",
   "metadata": {
    "tags": [],
    "cell_id": "00006-8e317a94-0af0-43bc-83de-5ddcd5a60a86",
    "deepnote_to_be_reexecuted": false,
    "source_hash": "a2954557",
    "execution_start": 1622715663598,
    "execution_millis": 0,
    "deepnote_cell_type": "code"
   },
   "source": "yt.backward()\n",
   "execution_count": null,
   "outputs": []
  },
  {
   "cell_type": "code",
   "metadata": {
    "tags": [],
    "cell_id": "00007-dd4ece7d-aa2b-46dd-bc75-b476275adaed",
    "deepnote_to_be_reexecuted": false,
    "source_hash": "646a9a7c",
    "execution_start": 1622715601758,
    "execution_millis": 34,
    "deepnote_cell_type": "code"
   },
   "source": "yt.backward()\nyt.grad",
   "execution_count": null,
   "outputs": [
    {
     "name": "stderr",
     "text": "/shared-libs/python3.7/py-core/lib/python3.7/site-packages/ipykernel_launcher.py:2: UserWarning: The .grad attribute of a Tensor that is not a leaf Tensor is being accessed. Its .grad attribute won't be populated during autograd.backward(). If you indeed want the gradient for a non-leaf Tensor, use .retain_grad() on the non-leaf Tensor. If you access the non-leaf Tensor by mistake, make sure you access the leaf Tensor instead. See github.com/pytorch/pytorch/pull/30531 for more informations.\n  \n",
     "output_type": "stream"
    }
   ]
  },
  {
   "cell_type": "code",
   "metadata": {
    "tags": [],
    "cell_id": "00008-0e3655a5-f995-4d41-805c-25dc778bbd39",
    "deepnote_to_be_reexecuted": false,
    "source_hash": "636f18f8",
    "execution_start": 1622715671925,
    "execution_millis": 1,
    "deepnote_cell_type": "code"
   },
   "source": "xt.grad\n",
   "execution_count": null,
   "outputs": [
    {
     "output_type": "execute_result",
     "execution_count": 50,
     "data": {
      "text/plain": "tensor([6.])"
     },
     "metadata": {}
    }
   ]
  },
  {
   "cell_type": "code",
   "metadata": {
    "tags": [],
    "cell_id": "00008-f1fe804e-c6cb-4269-863e-ad97c687e139",
    "deepnote_to_be_reexecuted": false,
    "source_hash": "cb9b3bcd",
    "execution_start": 1622715564136,
    "execution_millis": 13,
    "deepnote_cell_type": "code"
   },
   "source": "yt.backward()\n",
   "execution_count": null,
   "outputs": [
    {
     "name": "stderr",
     "text": "/shared-libs/python3.7/py-core/lib/python3.7/site-packages/ipykernel_launcher.py:1: UserWarning: The .grad attribute of a Tensor that is not a leaf Tensor is being accessed. Its .grad attribute won't be populated during autograd.backward(). If you indeed want the gradient for a non-leaf Tensor, use .retain_grad() on the non-leaf Tensor. If you access the non-leaf Tensor by mistake, make sure you access the leaf Tensor instead. See github.com/pytorch/pytorch/pull/30531 for more informations.\n  \"\"\"Entry point for launching an IPython kernel.\n",
     "output_type": "stream"
    }
   ]
  },
  {
   "cell_type": "code",
   "metadata": {
    "tags": [],
    "cell_id": "00008-c326a0a4-79af-4c92-bb74-966fdc123c7d",
    "deepnote_cell_type": "code"
   },
   "source": "",
   "execution_count": null,
   "outputs": []
  },
  {
   "cell_type": "markdown",
   "source": "<a style='text-decoration:none;line-height:16px;display:flex;color:#5B5B62;padding:10px;justify-content:end;' href='https://deepnote.com?utm_source=created-in-deepnote-cell&projectId=d3089e79-0e42-40a4-9bfd-5171fd4144aa' target=\"_blank\">\n<img alt='Created in deepnote.com' style='display:inline;max-height:16px;margin:0px;margin-right:7.5px;' src='data:image/svg+xml;base64,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' > </img>\nCreated in <span style='font-weight:600;margin-left:4px;'>Deepnote</span></a>",
   "metadata": {
    "tags": [],
    "created_in_deepnote_cell": true,
    "deepnote_cell_type": "markdown"
   }
  }
 ],
 "nbformat": 4,
 "nbformat_minor": 2,
 "metadata": {
  "orig_nbformat": 2,
  "deepnote": {
   "is_reactive": false
  },
  "deepnote_notebook_id": "882bc716-3314-401e-a07b-1ad83af568eb",
  "deepnote_execution_queue": []
 }
}