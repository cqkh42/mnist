{
 "cells": [
  {
   "cell_type": "code",
   "execution_count": 1,
   "metadata": {
    "cell_id": "00000-4a305320-9e34-4d41-9893-a4a1a9650725",
    "deepnote_cell_type": "code",
    "deepnote_to_be_reexecuted": false,
    "execution_millis": 4129,
    "execution_start": 1625171268323,
    "source_hash": "c422fda7",
    "tags": []
   },
   "outputs": [],
   "source": [
    "import fastai\n",
    "from fastai.vision.all import (\n",
    "    DataLoaders, Learner, URLs, cnn_learner, resnet18, \n",
    "    accuracy, ImageDataLoaders, untar_data\n",
    ")\n",
    "import numpy as np\n",
    "import torch\n",
    "from torch.utils.data import DataLoader\n",
    "from torch import nn\n",
    "from torch.nn import functional as F\n",
    "\n",
    "from mnist.mean_classifier import MeanClassifier, mse, mae\n",
    "from mnist import sgd, learner, loss\n",
    "from mnist import data"
   ]
  },
  {
   "cell_type": "code",
   "execution_count": 2,
   "metadata": {
    "cell_id": "00001-8faafd44-88ae-42e3-a918-2bc072f41892",
    "deepnote_cell_type": "code",
    "deepnote_to_be_reexecuted": false,
    "execution_millis": 4415,
    "execution_start": 1625171272457,
    "source_hash": "886b9125",
    "tags": []
   },
   "outputs": [],
   "source": [
    "train_dl, test_dl = data.load_mnist()\n",
    "dataloaders = DataLoaders(train_dl, test_dl)\n",
    "\n",
    "regression_dl = data.load_linear()"
   ]
  },
  {
   "cell_type": "code",
   "execution_count": 3,
   "metadata": {},
   "outputs": [
    {
     "name": "stdout",
     "output_type": "stream",
     "text": [
      "Mean Classifier with MSE loss had an accuracy of 0.9661\n",
      "Mean Classifier with MAE loss had an accuracy of 0.9514\n"
     ]
    }
   ],
   "source": [
    "for loss_func in mse, mae:\n",
    "    clf = MeanClassifier(loss=loss_func)\n",
    "    clf.fit(train_dl)\n",
    "    print(f'Mean Classifier with {loss_func.__name__.upper()} loss had an accuracy of {clf.score(test_dl):.4}')"
   ]
  },
  {
   "cell_type": "markdown",
   "metadata": {
    "cell_id": "00005-ebcb1174-be4a-4a33-b07f-6c1732101d74",
    "deepnote_cell_type": "text-cell-h1",
    "tags": []
   },
   "source": [
    "# Gradient Descent"
   ]
  },
  {
   "cell_type": "code",
   "execution_count": 4,
   "metadata": {
    "cell_id": "00006-67e5bbe1-5325-4750-a409-c46ecb1ee3aa",
    "deepnote_cell_type": "code",
    "deepnote_to_be_reexecuted": false,
    "execution_millis": 2276,
    "execution_start": 1625171276964,
    "source_hash": "b96a5e8",
    "tags": []
   },
   "outputs": [
    {
     "name": "stdout",
     "output_type": "stream",
     "text": [
      "Gradient Descent Regressor with MSE_LOSS loss had an R^2 of 0.9812\n",
      "Gradient Descent Regressor with L1_LOSS loss had an R^2 of 0.9778\n"
     ]
    }
   ],
   "source": [
    "for loss_func in F.mse_loss, F.l1_loss:\n",
    "    reg = sgd.SGDRegressor(loss=loss_func, epochs=100, lr=1e-3)\n",
    "    reg.fit(regression_dl)\n",
    "    print(f'Gradient Descent Regressor with {loss_func.__name__.upper()} loss had an R^2 of {reg.score(regression_dl):.4}')"
   ]
  },
  {
   "cell_type": "markdown",
   "metadata": {
    "cell_id": "00008-359e2962-6d08-4663-8c47-23ef19d1886a",
    "deepnote_cell_type": "text-cell-h1",
    "tags": []
   },
   "source": [
    "# Classifier"
   ]
  },
  {
   "cell_type": "code",
   "execution_count": 5,
   "metadata": {},
   "outputs": [
    {
     "name": "stdout",
     "output_type": "stream",
     "text": [
      "Gradient Descent Classifier with custom SGD had an accuracy of 0.9764\n"
     ]
    }
   ],
   "source": [
    "clf = sgd.SGDClassifier(lr=1, epochs=10)\n",
    "clf.fit(train_dl)\n",
    "print(f'Gradient Descent Classifier with custom SGD had an accuracy of {clf.score(test_dl):.4}')"
   ]
  },
  {
   "cell_type": "code",
   "execution_count": 6,
   "metadata": {},
   "outputs": [
    {
     "name": "stdout",
     "output_type": "stream",
     "text": [
      "Gradient Descent Classifier with torch's SGD had an accuracy of 0.9814\n"
     ]
    }
   ],
   "source": [
    "# trying with pytorch's SGD:\n",
    "clf = learner.Learner(epochs=10, lr=1, optimiser=torch.optim.SGD, loss=loss.sigmoid_loss, model=torch.nn.Linear(28*28, 1))\n",
    "clf.fit(train_dl)\n",
    "score = np.mean([sgd.accuracy(clf.predict(X), y) for X, y in test_dl])\n",
    "print(f\"Gradient Descent Classifier with torch's SGD had an accuracy of {score:.4}\")"
   ]
  },
  {
   "cell_type": "code",
   "execution_count": 7,
   "metadata": {},
   "outputs": [
    {
     "data": {
      "text/html": [
       "<table border=\"1\" class=\"dataframe\">\n",
       "  <thead>\n",
       "    <tr style=\"text-align: left;\">\n",
       "      <th>epoch</th>\n",
       "      <th>train_loss</th>\n",
       "      <th>valid_loss</th>\n",
       "      <th>accuracy</th>\n",
       "      <th>time</th>\n",
       "    </tr>\n",
       "  </thead>\n",
       "  <tbody>\n",
       "    <tr>\n",
       "      <td>0</td>\n",
       "      <td>0.057708</td>\n",
       "      <td>0.041235</td>\n",
       "      <td>0.970559</td>\n",
       "      <td>00:00</td>\n",
       "    </tr>\n",
       "    <tr>\n",
       "      <td>1</td>\n",
       "      <td>0.039786</td>\n",
       "      <td>0.034884</td>\n",
       "      <td>0.973994</td>\n",
       "      <td>00:00</td>\n",
       "    </tr>\n",
       "    <tr>\n",
       "      <td>2</td>\n",
       "      <td>0.032156</td>\n",
       "      <td>0.031623</td>\n",
       "      <td>0.976447</td>\n",
       "      <td>00:00</td>\n",
       "    </tr>\n",
       "    <tr>\n",
       "      <td>3</td>\n",
       "      <td>0.028182</td>\n",
       "      <td>0.029790</td>\n",
       "      <td>0.977429</td>\n",
       "      <td>00:00</td>\n",
       "    </tr>\n",
       "    <tr>\n",
       "      <td>4</td>\n",
       "      <td>0.025642</td>\n",
       "      <td>0.028267</td>\n",
       "      <td>0.978410</td>\n",
       "      <td>00:00</td>\n",
       "    </tr>\n",
       "    <tr>\n",
       "      <td>5</td>\n",
       "      <td>0.023651</td>\n",
       "      <td>0.028110</td>\n",
       "      <td>0.979392</td>\n",
       "      <td>00:00</td>\n",
       "    </tr>\n",
       "    <tr>\n",
       "      <td>6</td>\n",
       "      <td>0.022271</td>\n",
       "      <td>0.026612</td>\n",
       "      <td>0.979882</td>\n",
       "      <td>00:00</td>\n",
       "    </tr>\n",
       "    <tr>\n",
       "      <td>7</td>\n",
       "      <td>0.020976</td>\n",
       "      <td>0.025542</td>\n",
       "      <td>0.981354</td>\n",
       "      <td>00:00</td>\n",
       "    </tr>\n",
       "    <tr>\n",
       "      <td>8</td>\n",
       "      <td>0.020120</td>\n",
       "      <td>0.024972</td>\n",
       "      <td>0.981354</td>\n",
       "      <td>00:00</td>\n",
       "    </tr>\n",
       "    <tr>\n",
       "      <td>9</td>\n",
       "      <td>0.019817</td>\n",
       "      <td>0.024646</td>\n",
       "      <td>0.980373</td>\n",
       "      <td>00:00</td>\n",
       "    </tr>\n",
       "  </tbody>\n",
       "</table>"
      ],
      "text/plain": [
       "<IPython.core.display.HTML object>"
      ]
     },
     "metadata": {},
     "output_type": "display_data"
    }
   ],
   "source": [
    "learn = Learner(dataloaders, torch.nn.Linear(28*28,1), opt_func=fastai.optimizer.SGD, loss_func=loss.sigmoid_loss, metrics=sgd.accuracy)\n",
    "learn.fit(10, lr=1)"
   ]
  },
  {
   "cell_type": "markdown",
   "metadata": {},
   "source": [
    "# Moving to Neural Networks"
   ]
  },
  {
   "cell_type": "code",
   "execution_count": 8,
   "metadata": {},
   "outputs": [],
   "source": [
    "simple_net = nn.Sequential(\n",
    "    nn.Linear(28*28, 30),\n",
    "    nn.ReLU(),\n",
    "    nn.Linear(30, 1),\n",
    "    nn.Sigmoid()\n",
    ")"
   ]
  },
  {
   "cell_type": "code",
   "execution_count": 9,
   "metadata": {},
   "outputs": [
    {
     "name": "stdout",
     "output_type": "stream",
     "text": [
      "Neural Network had an accuracy of 0.975\n"
     ]
    }
   ],
   "source": [
    "clf = sgd.SGDClassifier(1, 10, loss=loss.sigmoid_loss, model=simple_net)\n",
    "clf.fit(train_dl)\n",
    "print(f\"Neural Network had an accuracy of {clf.score(test_dl):.4}\")"
   ]
  },
  {
   "cell_type": "code",
   "execution_count": null,
   "metadata": {},
   "outputs": [
    {
     "data": {
      "text/html": [
       "\n",
       "    <div>\n",
       "        <style>\n",
       "            /* Turns off some styling */\n",
       "            progress {\n",
       "                /* gets rid of default border in Firefox and Opera. */\n",
       "                border: none;\n",
       "                /* Needs to be in here for Safari polyfill so background images work as expected. */\n",
       "                background-size: auto;\n",
       "            }\n",
       "            .progress-bar-interrupted, .progress-bar-interrupted::-webkit-progress-bar {\n",
       "                background: #F44336;\n",
       "            }\n",
       "        </style>\n",
       "      <progress value='0' class='' max='1' style='width:300px; height:20px; vertical-align: middle;'></progress>\n",
       "      0.00% [0/1 00:00<00:00]\n",
       "    </div>\n",
       "    \n",
       "<table border=\"1\" class=\"dataframe\">\n",
       "  <thead>\n",
       "    <tr style=\"text-align: left;\">\n",
       "      <th>epoch</th>\n",
       "      <th>train_loss</th>\n",
       "      <th>valid_loss</th>\n",
       "      <th>accuracy</th>\n",
       "      <th>time</th>\n",
       "    </tr>\n",
       "  </thead>\n",
       "  <tbody>\n",
       "  </tbody>\n",
       "</table><p>\n",
       "\n",
       "    <div>\n",
       "        <style>\n",
       "            /* Turns off some styling */\n",
       "            progress {\n",
       "                /* gets rid of default border in Firefox and Opera. */\n",
       "                border: none;\n",
       "                /* Needs to be in here for Safari polyfill so background images work as expected. */\n",
       "                background-size: auto;\n",
       "            }\n",
       "            .progress-bar-interrupted, .progress-bar-interrupted::-webkit-progress-bar {\n",
       "                background: #F44336;\n",
       "            }\n",
       "        </style>\n",
       "      <progress value='144' class='' max='193' style='width:300px; height:20px; vertical-align: middle;'></progress>\n",
       "      74.61% [144/193 00:53<00:18 0.1956]\n",
       "    </div>\n",
       "    "
      ],
      "text/plain": [
       "<IPython.core.display.HTML object>"
      ]
     },
     "metadata": {},
     "output_type": "display_data"
    }
   ],
   "source": [
    "# and beyond\n",
    "path = untar_data(URLs.MNIST_SAMPLE)\n",
    "\n",
    "dls = ImageDataLoaders.from_folder(path)\n",
    "learn = cnn_learner(dls, resnet18, pretrained=False,\n",
    "                    loss_func=F.cross_entropy, metrics=accuracy)\n",
    "learn.fit_one_cycle(1, 0.1)"
   ]
  }
 ],
 "metadata": {
  "deepnote": {
   "is_reactive": false
  },
  "deepnote_execution_queue": [],
  "deepnote_notebook_id": "882bc716-3314-401e-a07b-1ad83af568eb",
  "kernelspec": {
   "display_name": "Python 3",
   "language": "python",
   "name": "python3"
  },
  "language_info": {
   "codemirror_mode": {
    "name": "ipython",
    "version": 3
   },
   "file_extension": ".py",
   "mimetype": "text/x-python",
   "name": "python",
   "nbconvert_exporter": "python",
   "pygments_lexer": "ipython3",
   "version": "3.9.5"
  }
 },
 "nbformat": 4,
 "nbformat_minor": 4
}
