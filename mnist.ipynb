{
 "cells": [
  {
   "cell_type": "code",
   "execution_count": 1,
   "metadata": {
    "cell_id": "00000-4a305320-9e34-4d41-9893-a4a1a9650725",
    "deepnote_cell_type": "code",
    "deepnote_to_be_reexecuted": false,
    "execution_millis": 4129,
    "execution_start": 1625171268323,
    "source_hash": "c422fda7",
    "tags": []
   },
   "outputs": [],
   "source": [
    "import fastai\n",
    "from fastai.vision.all import (\n",
    "    DataLoaders, Learner, URLs, cnn_learner, resnet18, \n",
    "    accuracy, ImageDataLoaders, untar_data\n",
    ")\n",
    "import numpy as np\n",
    "import torch\n",
    "from torch.utils.data import DataLoader\n",
    "from torch import nn\n",
    "from torch.nn import functional as F\n",
    "\n",
    "from mnist.mean_classifier import MeanClassifier, mse, mae\n",
    "from mnist import learner\n",
    "from mnist import data"
   ]
  },
  {
   "cell_type": "code",
   "execution_count": 2,
   "metadata": {
    "cell_id": "00001-8faafd44-88ae-42e3-a918-2bc072f41892",
    "deepnote_cell_type": "code",
    "deepnote_to_be_reexecuted": false,
    "execution_millis": 4415,
    "execution_start": 1625171272457,
    "source_hash": "886b9125",
    "tags": []
   },
   "outputs": [],
   "source": [
    "train_dl, test_dl = data.load_mnist()\n",
    "dataloaders = DataLoaders(train_dl, test_dl)\n",
    "\n",
    "regression_dl = data.load_linear()"
   ]
  },
  {
   "cell_type": "code",
   "execution_count": 3,
   "metadata": {},
   "outputs": [
    {
     "name": "stdout",
     "output_type": "stream",
     "text": [
      "Mean Classifier with MSE loss had an accuracy of 0.8187\n",
      "Mean Classifier with MAE loss had an accuracy of 0.6704\n"
     ]
    }
   ],
   "source": [
    "for loss_func in mse, mae:\n",
    "    clf = MeanClassifier(loss=loss_func)\n",
    "    clf.fit(train_dl)\n",
    "    print(f'Mean Classifier with {loss_func.__name__.upper()} loss had an accuracy of {clf.score(test_dl):.4}')"
   ]
  },
  {
   "cell_type": "markdown",
   "metadata": {
    "cell_id": "00005-ebcb1174-be4a-4a33-b07f-6c1732101d74",
    "deepnote_cell_type": "text-cell-h1",
    "tags": []
   },
   "source": [
    "# Gradient Descent"
   ]
  },
  {
   "cell_type": "code",
   "execution_count": 4,
   "metadata": {},
   "outputs": [
    {
     "name": "stdout",
     "output_type": "stream",
     "text": [
      "Gradient Descent Regressor with MSE_LOSS loss had an R^2 of 0.9785\n",
      "Gradient Descent Regressor with L1_LOSS loss had an R^2 of 0.9784\n"
     ]
    }
   ],
   "source": [
    "from mnist import optimiser\n",
    "\n",
    "\n",
    "def r_2(y_pred, y_true):\n",
    "    u = ((y_true - y_pred) ** 2).sum()\n",
    "    v = ((y_true - y_true.mean()) ** 2).sum()\n",
    "    return (1 - (u/v)).item()\n",
    "\n",
    "\n",
    "for loss_func in F.mse_loss, F.l1_loss:\n",
    "    m = torch.nn.Linear(1, 1)\n",
    "    reg = learner.Learner(lr=1e-3, epochs=100, loss=loss_func, optimiser=optimiser.SGD, model=m)\n",
    "    reg.fit(regression_dl)\n",
    "    batch_scores = [r_2(reg.predict(X), y) for X, y in regression_dl]\n",
    "    score = np.mean(batch_scores)\n",
    "    print(f'Gradient Descent Regressor with {loss_func.__name__.upper()} loss had an R^2 of {score:.4}')"
   ]
  },
  {
   "cell_type": "markdown",
   "metadata": {
    "cell_id": "00008-359e2962-6d08-4663-8c47-23ef19d1886a",
    "deepnote_cell_type": "text-cell-h1",
    "tags": []
   },
   "source": [
    "# Classifier"
   ]
  },
  {
   "cell_type": "code",
   "execution_count": 5,
   "metadata": {},
   "outputs": [
    {
     "name": "stdout",
     "output_type": "stream",
     "text": [
      "Gradient Descent Classifier with custom SGD had an accuracy of 0.9193\n"
     ]
    }
   ],
   "source": [
    "model = torch.nn.Linear(28*28, 10)\n",
    "clf = learner.Learner(lr=1, epochs=10, optimiser=optimiser.SGD, model=model, loss=nn.CrossEntropyLoss())\n",
    "clf.fit(train_dl)\n",
    "\n",
    "def accuracy(preds, y):\n",
    "    return (preds.argmax(-1) == y).float().mean()\n",
    "\n",
    "score = np.mean([accuracy(clf.predict(X), y) for X, y in test_dl])\n",
    "print(f'Gradient Descent Classifier with custom SGD had an accuracy of {score:.4}')"
   ]
  },
  {
   "cell_type": "code",
   "execution_count": 6,
   "metadata": {},
   "outputs": [
    {
     "name": "stdout",
     "output_type": "stream",
     "text": [
      "Gradient Descent Classifier with torch's SGD had an accuracy of 0.9121\n"
     ]
    }
   ],
   "source": [
    "# trying with pytorch's SGD:\n",
    "clf = learner.Learner(epochs=10, lr=1, optimiser=torch.optim.SGD, loss=nn.CrossEntropyLoss(), model=torch.nn.Linear(28*28, 10))\n",
    "clf.fit(train_dl)\n",
    "score = np.mean([accuracy(clf.predict(X), y) for X, y in test_dl])\n",
    "print(f\"Gradient Descent Classifier with torch's SGD had an accuracy of {score:.4}\")"
   ]
  },
  {
   "cell_type": "code",
   "execution_count": 7,
   "metadata": {},
   "outputs": [
    {
     "data": {
      "text/html": [
       "<table border=\"1\" class=\"dataframe\">\n",
       "  <thead>\n",
       "    <tr style=\"text-align: left;\">\n",
       "      <th>epoch</th>\n",
       "      <th>train_loss</th>\n",
       "      <th>valid_loss</th>\n",
       "      <th>accuracy</th>\n",
       "      <th>time</th>\n",
       "    </tr>\n",
       "  </thead>\n",
       "  <tbody>\n",
       "    <tr>\n",
       "      <td>0</td>\n",
       "      <td>0.349351</td>\n",
       "      <td>0.320776</td>\n",
       "      <td>0.906500</td>\n",
       "      <td>00:06</td>\n",
       "    </tr>\n",
       "    <tr>\n",
       "      <td>1</td>\n",
       "      <td>0.312170</td>\n",
       "      <td>0.293248</td>\n",
       "      <td>0.916700</td>\n",
       "      <td>00:06</td>\n",
       "    </tr>\n",
       "    <tr>\n",
       "      <td>2</td>\n",
       "      <td>0.287037</td>\n",
       "      <td>0.314138</td>\n",
       "      <td>0.910000</td>\n",
       "      <td>00:07</td>\n",
       "    </tr>\n",
       "    <tr>\n",
       "      <td>3</td>\n",
       "      <td>0.279780</td>\n",
       "      <td>0.294972</td>\n",
       "      <td>0.917700</td>\n",
       "      <td>00:06</td>\n",
       "    </tr>\n",
       "    <tr>\n",
       "      <td>4</td>\n",
       "      <td>0.278093</td>\n",
       "      <td>0.286686</td>\n",
       "      <td>0.918500</td>\n",
       "      <td>00:06</td>\n",
       "    </tr>\n",
       "    <tr>\n",
       "      <td>5</td>\n",
       "      <td>0.280224</td>\n",
       "      <td>0.297022</td>\n",
       "      <td>0.919200</td>\n",
       "      <td>00:06</td>\n",
       "    </tr>\n",
       "    <tr>\n",
       "      <td>6</td>\n",
       "      <td>0.279300</td>\n",
       "      <td>0.285074</td>\n",
       "      <td>0.920400</td>\n",
       "      <td>00:06</td>\n",
       "    </tr>\n",
       "    <tr>\n",
       "      <td>7</td>\n",
       "      <td>0.274514</td>\n",
       "      <td>0.278062</td>\n",
       "      <td>0.920000</td>\n",
       "      <td>00:06</td>\n",
       "    </tr>\n",
       "    <tr>\n",
       "      <td>8</td>\n",
       "      <td>0.280260</td>\n",
       "      <td>0.295389</td>\n",
       "      <td>0.918200</td>\n",
       "      <td>00:06</td>\n",
       "    </tr>\n",
       "    <tr>\n",
       "      <td>9</td>\n",
       "      <td>0.269228</td>\n",
       "      <td>0.277691</td>\n",
       "      <td>0.921700</td>\n",
       "      <td>00:06</td>\n",
       "    </tr>\n",
       "  </tbody>\n",
       "</table>"
      ],
      "text/plain": [
       "<IPython.core.display.HTML object>"
      ]
     },
     "metadata": {},
     "output_type": "display_data"
    }
   ],
   "source": [
    "learn = Learner(dataloaders, torch.nn.Linear(28*28,10), opt_func=fastai.optimizer.SGD, loss_func=nn.CrossEntropyLoss(), metrics=accuracy)\n",
    "learn.fit(10, lr=1)"
   ]
  },
  {
   "cell_type": "markdown",
   "metadata": {},
   "source": [
    "# Moving to Neural Networks"
   ]
  },
  {
   "cell_type": "code",
   "execution_count": 8,
   "metadata": {},
   "outputs": [],
   "source": [
    "simple_net = nn.Sequential(\n",
    "    nn.Linear(28*28, 30),\n",
    "    nn.ReLU(),\n",
    "    nn.Linear(30, 10),\n",
    ")"
   ]
  },
  {
   "cell_type": "code",
   "execution_count": 9,
   "metadata": {},
   "outputs": [
    {
     "name": "stdout",
     "output_type": "stream",
     "text": [
      "Neural Network had an accuracy of 0.9509\n"
     ]
    }
   ],
   "source": [
    "from mnist import optimiser\n",
    "clf = learner.Learner(epochs=10, lr=1, optimiser=optimiser.SGD, loss=nn.CrossEntropyLoss(), model=simple_net)\n",
    "clf.fit(train_dl)\n",
    "score = np.mean([accuracy(clf.predict(X), y) for X, y in test_dl])\n",
    "print(f\"Neural Network had an accuracy of {score:.4}\")"
   ]
  }
 ],
 "metadata": {
  "deepnote": {
   "is_reactive": false
  },
  "deepnote_execution_queue": [],
  "deepnote_notebook_id": "882bc716-3314-401e-a07b-1ad83af568eb",
  "kernelspec": {
   "display_name": "Python 3",
   "language": "python",
   "name": "python3"
  },
  "language_info": {
   "codemirror_mode": {
    "name": "ipython",
    "version": 3
   },
   "file_extension": ".py",
   "mimetype": "text/x-python",
   "name": "python",
   "nbconvert_exporter": "python",
   "pygments_lexer": "ipython3",
   "version": "3.9.5"
  }
 },
 "nbformat": 4,
 "nbformat_minor": 4
}
