{
 "cells": [
  {
   "cell_type": "code",
   "execution_count": 1,
   "metadata": {
    "cell_id": "00000-4a305320-9e34-4d41-9893-a4a1a9650725",
    "deepnote_cell_type": "code",
    "deepnote_to_be_reexecuted": false,
    "execution_millis": 4129,
    "execution_start": 1625171268323,
    "source_hash": "c422fda7",
    "tags": []
   },
   "outputs": [],
   "source": [
    "# from fastbook import *\n",
    "from sklearn import datasets\n",
    "import seaborn as sns\n",
    "import sklearn\n",
    "import torch\n",
    "from torch.utils.data import DataLoader\n",
    "from torch.nn import functional as F\n",
    "\n",
    "from fastai.vision.all import DataLoaders, Learner\n",
    "import fastai\n",
    "\n",
    "from fastai.vision.all import URLs, cnn_learner, resnet18, accuracy\n",
    "# from fastbook import URLS\n",
    "from fastai.vision.all import ImageDataLoaders, untar_data\n",
    "from torch import nn\n",
    "\n",
    "\n",
    "from mnist.mean_classifier import MeanClassifier\n",
    "from mnist import sgd, learner, loss\n",
    "# from sgd import SGDRegressor, SGDClassifier\n",
    "from mnist import utils"
   ]
  },
  {
   "cell_type": "markdown",
   "metadata": {
    "cell_id": "00001-79a9ce8e-9f1d-4364-ba83-6411370ef382",
    "deepnote_cell_type": "text-cell-h1",
    "tags": []
   },
   "source": [
    "# Mean Classifier"
   ]
  },
  {
   "cell_type": "code",
   "execution_count": 2,
   "metadata": {
    "cell_id": "00001-8faafd44-88ae-42e3-a918-2bc072f41892",
    "deepnote_cell_type": "code",
    "deepnote_to_be_reexecuted": false,
    "execution_millis": 4415,
    "execution_start": 1625171272457,
    "source_hash": "886b9125",
    "tags": []
   },
   "outputs": [],
   "source": [
    "X_train, X_test, y_train, y_test = utils.load_mnist()\n",
    "regression_dl = utils.load_linear()"
   ]
  },
  {
   "cell_type": "code",
   "execution_count": 3,
   "metadata": {},
   "outputs": [],
   "source": [
    "train_dl = DataLoader(list(zip(X_train, y_train)), batch_size=256, shuffle=True)\n",
    "test_dl = DataLoader(list(zip(X_test, y_test)), batch_size=256)\n",
    "dls = DataLoaders(train_dl, test_dl)"
   ]
  },
  {
   "cell_type": "code",
   "execution_count": 4,
   "metadata": {},
   "outputs": [
    {
     "name": "stdout",
     "output_type": "stream",
     "text": [
      "Mean Classifier with MAE loss had an accuracy of 0.9514\n"
     ]
    }
   ],
   "source": [
    "clf = MeanClassifier(loss='mae')\n",
    "clf.fit(train_dl)\n",
    "print(f'Mean Classifier with MAE loss had an accuracy of {clf.score(test_dl):.4}')"
   ]
  },
  {
   "cell_type": "code",
   "execution_count": 5,
   "metadata": {
    "cell_id": "00003-de1a1bee-6808-4aa8-bb14-5933963d07fd",
    "deepnote_cell_type": "code",
    "deepnote_to_be_reexecuted": false,
    "execution_millis": 32,
    "execution_start": 1625171276930,
    "source_hash": "38523d4b",
    "tags": []
   },
   "outputs": [
    {
     "name": "stdout",
     "output_type": "stream",
     "text": [
      "Mean Classifier with MSE loss had an accuracy of 0.9662\n"
     ]
    }
   ],
   "source": [
    "clf = MeanClassifier(loss='mse')\n",
    "clf.fit(train_dl)\n",
    "clf.score(test_dl)\n",
    "print(f'Mean Classifier with MSE loss had an accuracy of {clf.score(test_dl):.4}')"
   ]
  },
  {
   "cell_type": "markdown",
   "metadata": {
    "cell_id": "00005-ebcb1174-be4a-4a33-b07f-6c1732101d74",
    "deepnote_cell_type": "text-cell-h1",
    "tags": []
   },
   "source": [
    "# Gradient Descent"
   ]
  },
  {
   "cell_type": "code",
   "execution_count": 6,
   "metadata": {
    "cell_id": "00006-67e5bbe1-5325-4750-a409-c46ecb1ee3aa",
    "deepnote_cell_type": "code",
    "deepnote_to_be_reexecuted": false,
    "execution_millis": 2276,
    "execution_start": 1625171276964,
    "source_hash": "b96a5e8",
    "tags": []
   },
   "outputs": [
    {
     "name": "stdout",
     "output_type": "stream",
     "text": [
      "Gradient Descent Regressor with MSE loss had an R^2 of 0.9806\n"
     ]
    }
   ],
   "source": [
    "reg = sgd.SGDRegressor(loss=F.mse_loss, epochs=10, lr=1e-3)\n",
    "reg.fit(regression_dl)\n",
    "print(f'Gradient Descent Regressor with MSE loss had an R^2 of {reg.score(regression_dl):.4}')"
   ]
  },
  {
   "cell_type": "code",
   "execution_count": 7,
   "metadata": {},
   "outputs": [
    {
     "name": "stdout",
     "output_type": "stream",
     "text": [
      "Gradient Descent Regressor with MAE loss had an R^2 of 0.9163\n"
     ]
    }
   ],
   "source": [
    "reg = sgd.SGDRegressor(loss=F.l1_loss, epochs=20, lr=1e-2)\n",
    "reg.fit(regression_dl)\n",
    "print(f'Gradient Descent Regressor with MAE loss had an R^2 of {reg.score(regression_dl):.4}')"
   ]
  },
  {
   "cell_type": "markdown",
   "metadata": {
    "cell_id": "00008-359e2962-6d08-4663-8c47-23ef19d1886a",
    "deepnote_cell_type": "text-cell-h1",
    "tags": []
   },
   "source": [
    "# Classifier"
   ]
  },
  {
   "cell_type": "code",
   "execution_count": 8,
   "metadata": {},
   "outputs": [
    {
     "name": "stdout",
     "output_type": "stream",
     "text": [
      "Gradient Descent Classifier with custom SGD had an accuracy of 0.98\n"
     ]
    }
   ],
   "source": [
    "clf = sgd.SGDClassifier(lr=1, epochs=10)\n",
    "clf.fit(train_dl)\n",
    "print(f'Gradient Descent Classifier with custom SGD had an accuracy of {clf.score(test_dl):.4}')"
   ]
  },
  {
   "cell_type": "code",
   "execution_count": 9,
   "metadata": {},
   "outputs": [
    {
     "name": "stdout",
     "output_type": "stream",
     "text": [
      "Gradient Descent Classifier with torch's SGD had an accuracy of 0.9789\n"
     ]
    }
   ],
   "source": [
    "# trying with pytorch's SGD:\n",
    "clf = learner.Learner(epochs=10, lr=1, optimiser=torch.optim.SGD, loss=loss.sigmoid_loss, model=torch.nn.Linear(28*28, 1))\n",
    "clf.fit(train_dl)\n",
    "preds = clf.predict(X_test)\n",
    "print(f\"Gradient Descent Classifier with torch's SGD had an accuracy of {sgd.accuracy(preds, y_test):.4}\")"
   ]
  },
  {
   "cell_type": "code",
   "execution_count": 10,
   "metadata": {},
   "outputs": [
    {
     "data": {
      "text/html": [
       "<table border=\"1\" class=\"dataframe\">\n",
       "  <thead>\n",
       "    <tr style=\"text-align: left;\">\n",
       "      <th>epoch</th>\n",
       "      <th>train_loss</th>\n",
       "      <th>valid_loss</th>\n",
       "      <th>accuracy</th>\n",
       "      <th>time</th>\n",
       "    </tr>\n",
       "  </thead>\n",
       "  <tbody>\n",
       "    <tr>\n",
       "      <td>0</td>\n",
       "      <td>0.057973</td>\n",
       "      <td>0.041334</td>\n",
       "      <td>0.971050</td>\n",
       "      <td>00:00</td>\n",
       "    </tr>\n",
       "    <tr>\n",
       "      <td>1</td>\n",
       "      <td>0.040404</td>\n",
       "      <td>0.034486</td>\n",
       "      <td>0.975957</td>\n",
       "      <td>00:00</td>\n",
       "    </tr>\n",
       "    <tr>\n",
       "      <td>2</td>\n",
       "      <td>0.032530</td>\n",
       "      <td>0.031217</td>\n",
       "      <td>0.976938</td>\n",
       "      <td>00:00</td>\n",
       "    </tr>\n",
       "    <tr>\n",
       "      <td>3</td>\n",
       "      <td>0.027967</td>\n",
       "      <td>0.029299</td>\n",
       "      <td>0.978410</td>\n",
       "      <td>00:00</td>\n",
       "    </tr>\n",
       "    <tr>\n",
       "      <td>4</td>\n",
       "      <td>0.025414</td>\n",
       "      <td>0.028312</td>\n",
       "      <td>0.976938</td>\n",
       "      <td>00:00</td>\n",
       "    </tr>\n",
       "    <tr>\n",
       "      <td>5</td>\n",
       "      <td>0.023821</td>\n",
       "      <td>0.027038</td>\n",
       "      <td>0.978901</td>\n",
       "      <td>00:00</td>\n",
       "    </tr>\n",
       "    <tr>\n",
       "      <td>6</td>\n",
       "      <td>0.022702</td>\n",
       "      <td>0.025975</td>\n",
       "      <td>0.979392</td>\n",
       "      <td>00:00</td>\n",
       "    </tr>\n",
       "    <tr>\n",
       "      <td>7</td>\n",
       "      <td>0.021910</td>\n",
       "      <td>0.025191</td>\n",
       "      <td>0.979392</td>\n",
       "      <td>00:00</td>\n",
       "    </tr>\n",
       "    <tr>\n",
       "      <td>8</td>\n",
       "      <td>0.020667</td>\n",
       "      <td>0.025386</td>\n",
       "      <td>0.979392</td>\n",
       "      <td>00:00</td>\n",
       "    </tr>\n",
       "    <tr>\n",
       "      <td>9</td>\n",
       "      <td>0.020023</td>\n",
       "      <td>0.024154</td>\n",
       "      <td>0.978901</td>\n",
       "      <td>00:00</td>\n",
       "    </tr>\n",
       "  </tbody>\n",
       "</table>"
      ],
      "text/plain": [
       "<IPython.core.display.HTML object>"
      ]
     },
     "metadata": {},
     "output_type": "display_data"
    }
   ],
   "source": [
    "learn = Learner(dls, torch.nn.Linear(28*28,1), opt_func=fastai.optimizer.SGD, loss_func=loss.sigmoid_loss, metrics=sgd.accuracy)\n",
    "learn.fit(10, lr=1)"
   ]
  },
  {
   "cell_type": "markdown",
   "metadata": {},
   "source": [
    "# Moving to Neural Networks"
   ]
  },
  {
   "cell_type": "code",
   "execution_count": 11,
   "metadata": {},
   "outputs": [],
   "source": [
    "simple_net = nn.Sequential(\n",
    "    nn.Linear(28*28, 30),\n",
    "    nn.ReLU(),\n",
    "    nn.Linear(30, 1),\n",
    ")"
   ]
  },
  {
   "cell_type": "code",
   "execution_count": 12,
   "metadata": {},
   "outputs": [
    {
     "name": "stdout",
     "output_type": "stream",
     "text": [
      "Neural Network had an accuracy of 0.979\n"
     ]
    }
   ],
   "source": [
    "clf = sgd.SGDClassifier(1, 10, loss=loss.sigmoid_loss, model=simple_net)\n",
    "clf.fit(train_dl)\n",
    "print(f\"Neural Network had an accuracy of {clf.score(test_dl):.4}\")"
   ]
  },
  {
   "cell_type": "code",
   "execution_count": 13,
   "metadata": {},
   "outputs": [
    {
     "ename": "AssertionError",
     "evalue": "`n_out` is not defined, and could not be inferred from data, set `dls.c` or pass `n_out`",
     "output_type": "error",
     "traceback": [
      "\u001b[0;31m---------------------------------------------------------------------------\u001b[0m",
      "\u001b[0;31mAssertionError\u001b[0m                            Traceback (most recent call last)",
      "\u001b[0;32m<ipython-input-13-d4fdca479ecf>\u001b[0m in \u001b[0;36m<module>\u001b[0;34m\u001b[0m\n\u001b[1;32m      3\u001b[0m \u001b[0;34m\u001b[0m\u001b[0m\n\u001b[1;32m      4\u001b[0m \u001b[0;31m# dls = ImageDataLoaders.from_folder(path)\u001b[0m\u001b[0;34m\u001b[0m\u001b[0;34m\u001b[0m\u001b[0;34m\u001b[0m\u001b[0m\n\u001b[0;32m----> 5\u001b[0;31m learn = cnn_learner(dls, resnet18, pretrained=False,\n\u001b[0m\u001b[1;32m      6\u001b[0m                     loss_func=F.cross_entropy, metrics=accuracy)\n",
      "\u001b[0;32m/usr/local/lib/python3.9/site-packages/fastai/vision/learner.py\u001b[0m in \u001b[0;36mcnn_learner\u001b[0;34m(dls, arch, normalize, n_out, pretrained, config, loss_func, opt_func, lr, splitter, cbs, metrics, path, model_dir, wd, wd_bn_bias, train_bn, moms, **kwargs)\u001b[0m\n\u001b[1;32m    177\u001b[0m \u001b[0;34m\u001b[0m\u001b[0m\n\u001b[1;32m    178\u001b[0m     \u001b[0;32mif\u001b[0m \u001b[0mn_out\u001b[0m \u001b[0;32mis\u001b[0m \u001b[0;32mNone\u001b[0m\u001b[0;34m:\u001b[0m \u001b[0mn_out\u001b[0m \u001b[0;34m=\u001b[0m \u001b[0mget_c\u001b[0m\u001b[0;34m(\u001b[0m\u001b[0mdls\u001b[0m\u001b[0;34m)\u001b[0m\u001b[0;34m\u001b[0m\u001b[0;34m\u001b[0m\u001b[0m\n\u001b[0;32m--> 179\u001b[0;31m     \u001b[0;32massert\u001b[0m \u001b[0mn_out\u001b[0m\u001b[0;34m,\u001b[0m \u001b[0;34m\"`n_out` is not defined, and could not be inferred from data, set `dls.c` or pass `n_out`\"\u001b[0m\u001b[0;34m\u001b[0m\u001b[0;34m\u001b[0m\u001b[0m\n\u001b[0m\u001b[1;32m    180\u001b[0m     \u001b[0mmodel\u001b[0m \u001b[0;34m=\u001b[0m \u001b[0mcreate_cnn_model\u001b[0m\u001b[0;34m(\u001b[0m\u001b[0march\u001b[0m\u001b[0;34m,\u001b[0m \u001b[0mn_out\u001b[0m\u001b[0;34m,\u001b[0m \u001b[0mpretrained\u001b[0m\u001b[0;34m=\u001b[0m\u001b[0mpretrained\u001b[0m\u001b[0;34m,\u001b[0m \u001b[0;34m**\u001b[0m\u001b[0mkwargs\u001b[0m\u001b[0;34m)\u001b[0m\u001b[0;34m\u001b[0m\u001b[0;34m\u001b[0m\u001b[0m\n\u001b[1;32m    181\u001b[0m \u001b[0;34m\u001b[0m\u001b[0m\n",
      "\u001b[0;31mAssertionError\u001b[0m: `n_out` is not defined, and could not be inferred from data, set `dls.c` or pass `n_out`"
     ]
    }
   ],
   "source": [
    "# and beyond\n",
    "path = untar_data(URLs.MNIST_SAMPLE)\n",
    "\n",
    "# dls = ImageDataLoaders.from_folder(path)\n",
    "learn = cnn_learner(dls, resnet18, pretrained=False,\n",
    "                    loss_func=F.cross_entropy, metrics=accuracy)\n"
   ]
  },
  {
   "cell_type": "code",
   "execution_count": null,
   "metadata": {},
   "outputs": [],
   "source": [
    "learn.fit_one_cycle(1, 0.1)"
   ]
  },
  {
   "cell_type": "code",
   "execution_count": null,
   "metadata": {},
   "outputs": [],
   "source": []
  }
 ],
 "metadata": {
  "deepnote": {
   "is_reactive": false
  },
  "deepnote_execution_queue": [],
  "deepnote_notebook_id": "882bc716-3314-401e-a07b-1ad83af568eb",
  "kernelspec": {
   "display_name": "Python 3",
   "language": "python",
   "name": "python3"
  },
  "language_info": {
   "codemirror_mode": {
    "name": "ipython",
    "version": 3
   },
   "file_extension": ".py",
   "mimetype": "text/x-python",
   "name": "python",
   "nbconvert_exporter": "python",
   "pygments_lexer": "ipython3",
   "version": "3.9.5"
  }
 },
 "nbformat": 4,
 "nbformat_minor": 4
}
