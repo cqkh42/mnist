{
 "cells": [
  {
   "cell_type": "code",
   "metadata": {
    "tags": [],
    "cell_id": "00000-79619589-235f-4381-9ea9-bf7b6cf2afd8",
    "deepnote_to_be_reexecuted": false,
    "source_hash": "75a81752",
    "execution_start": 1625828599214,
    "execution_millis": 4067,
    "deepnote_cell_type": "code"
   },
   "source": "# Start writing code here...\nimport matplotlib.pyplot as plt\nimport torch\n\nimport fastai.vision.all as vision\nfrom PIL import Image\nimport numpy as np\nimport torch\nimport seaborn as sns\n\nfrom mean_classifier import MeanClassifier\nfrom gradient_descent_classifier import GradientDescentClassifier\n\nfrom gradient_descent_regressor import GradientDescentRegressor\nimport utils\n\nX_train, X_test, y_train, y_test = utils.load_mnist()",
   "outputs": [],
   "execution_count": null
  },
  {
   "cell_type": "code",
   "metadata": {
    "tags": [],
    "cell_id": "00002-05bcedfd-1013-4a18-8490-414cfc3c2663",
    "deepnote_to_be_reexecuted": false,
    "source_hash": "1cd798c",
    "execution_start": 1625831539358,
    "execution_millis": 6152,
    "deepnote_cell_type": "code"
   },
   "source": "path = vision.untar_data(vision.URLs.MNIST_SAMPLE)\n\ntrain_threes = (path/'train'/'3').ls().sorted()\ntrain_threes = [utils.image_to_tensor(img) for img in train_threes]\ntrain_threes = torch.stack(train_threes).float() / 255\n\ntrain_sevens = (path/'train'/'7').ls().sorted()\ntrain_sevens = [utils.image_to_tensor(img) for img in train_sevens]\ntrain_sevens = torch.stack(train_sevens).float() / 255\n\n\ntest_threes = (path/'valid'/'3').ls().sorted()\ntest_threes = [utils.image_to_tensor(img) for img in test_threes]\ntest_threes = torch.stack(test_threes).float() / 255\ntest_sevens = (path/'valid'/'7').ls().sorted()\ntest_sevens = [utils.image_to_tensor(img) for img in test_sevens]\ntest_sevens = torch.stack(test_sevens).float() / 255\n\nX_test = torch.cat((test_sevens, test_threes)).view(-1, 28*28)\nX_train = torch.cat((train_sevens, train_threes)).view(-1, 28*28)\n\ny_train = torch.from_numpy(np.array([0] * len(train_sevens) + [1] * len(train_threes)))\ny_test = torch.from_numpy(np.array([0] * len(test_sevens) + [1] * len(test_threes)))  ",
   "outputs": [],
   "execution_count": null
  },
  {
   "cell_type": "code",
   "metadata": {
    "tags": [],
    "cell_id": "00002-01696317-daa4-4bbe-b0c6-6f78b9165f09",
    "deepnote_to_be_reexecuted": false,
    "source_hash": "a139fd56",
    "execution_start": 1625831547569,
    "execution_millis": 1310,
    "deepnote_cell_type": "code"
   },
   "source": "import torch\nimport torch.nn.functional as F\n\n\nclass GradientDescentClassifier:\n    def __init__(self, lr=1, epochs=200, seed=None):\n        self.lr = lr\n        self.epochs = epochs\n        self.weights = None\n        self.bias = None\n        self.seed = seed\n\n    def fit(self, X, y):\n        self.initialise(X)\n        for i in range(self.epochs):\n            self.epoch(X, y)\n        return self\n\n    def initialise(self, X):\n        if self.seed is not None:\n            torch.manual_seed(self.seed)\n        self.weights = torch.randn(X.shape[1]).requires_grad_()\n        self.bias = torch.randn(1).requires_grad_()\n\n    def proba(self, X):\n        return ((X @ self.weights) + self.bias).sigmoid()\n\n\n    def epoch(self, X, y):\n        epoch_loss = self.loss(X, y)\n        epoch_loss.backward()\n        self.weights.data -= self.weights.grad.data * self.lr\n        self.bias.data -= self.bias.grad.data * self.lr\n        self.weights.grad = None\n        self.bias.grad = None\n        # print(epoch_loss, self.score(X, y))\n\n    def loss(self, X, y_true):\n        probs = self.proba(X)\n        return torch.where(y_true == 1, 1-probs, probs).mean()\n\n    def predict(self, X):\n        probs = self.proba(X)\n        return probs.round()\n\n    def score(self, X, y_true):\n        preds = self.predict(X)\n        return (preds == y_true).float().mean()\n\n\nclf = GradientDescentClassifier(seed=1337)\nclf.fit(X_train, y_train)\nclf.score(X_test, y_test)",
   "outputs": [
    {
     "output_type": "execute_result",
     "execution_count": 106,
     "data": {
      "text/plain": "tensor(0.9553)"
     },
     "metadata": {}
    }
   ],
   "execution_count": null
  },
  {
   "cell_type": "code",
   "metadata": {
    "tags": [],
    "cell_id": "00005-bb99bb9a-769c-4988-8438-7c48a184bc8a",
    "deepnote_cell_type": "code"
   },
   "source": "",
   "execution_count": null,
   "outputs": []
  },
  {
   "cell_type": "markdown",
   "source": "<a style='text-decoration:none;line-height:16px;display:flex;color:#5B5B62;padding:10px;justify-content:end;' href='https://deepnote.com?utm_source=created-in-deepnote-cell&projectId=d3089e79-0e42-40a4-9bfd-5171fd4144aa' target=\"_blank\">\n<img alt='Created in deepnote.com' style='display:inline;max-height:16px;margin:0px;margin-right:7.5px;' src='data:image/svg+xml;base64,PD94bWwgdmVyc2lvbj0iMS4wIiBlbmNvZGluZz0iVVRGLTgiPz4KPHN2ZyB3aWR0aD0iODBweCIgaGVpZ2h0PSI4MHB4IiB2aWV3Qm94PSIwIDAgODAgODAiIHZlcnNpb249IjEuMSIgeG1sbnM9Imh0dHA6Ly93d3cudzMub3JnLzIwMDAvc3ZnIiB4bWxuczp4bGluaz0iaHR0cDovL3d3dy53My5vcmcvMTk5OS94bGluayI+CiAgICA8IS0tIEdlbmVyYXRvcjogU2tldGNoIDU0LjEgKDc2NDkwKSAtIGh0dHBzOi8vc2tldGNoYXBwLmNvbSAtLT4KICAgIDx0aXRsZT5Hcm91cCAzPC90aXRsZT4KICAgIDxkZXNjPkNyZWF0ZWQgd2l0aCBTa2V0Y2guPC9kZXNjPgogICAgPGcgaWQ9IkxhbmRpbmciIHN0cm9rZT0ibm9uZSIgc3Ryb2tlLXdpZHRoPSIxIiBmaWxsPSJub25lIiBmaWxsLXJ1bGU9ImV2ZW5vZGQiPgogICAgICAgIDxnIGlkPSJBcnRib2FyZCIgdHJhbnNmb3JtPSJ0cmFuc2xhdGUoLTEyMzUuMDAwMDAwLCAtNzkuMDAwMDAwKSI+CiAgICAgICAgICAgIDxnIGlkPSJHcm91cC0zIiB0cmFuc2Zvcm09InRyYW5zbGF0ZSgxMjM1LjAwMDAwMCwgNzkuMDAwMDAwKSI+CiAgICAgICAgICAgICAgICA8cG9seWdvbiBpZD0iUGF0aC0yMCIgZmlsbD0iIzAyNjVCNCIgcG9pbnRzPSIyLjM3NjIzNzYyIDgwIDM4LjA0NzY2NjcgODAgNTcuODIxNzgyMiA3My44MDU3NTkyIDU3LjgyMTc4MjIgMzIuNzU5MjczOSAzOS4xNDAyMjc4IDMxLjY4MzE2ODMiPjwvcG9seWdvbj4KICAgICAgICAgICAgICAgIDxwYXRoIGQ9Ik0zNS4wMDc3MTgsODAgQzQyLjkwNjIwMDcsNzYuNDU0OTM1OCA0Ny41NjQ5MTY3LDcxLjU0MjI2NzEgNDguOTgzODY2LDY1LjI2MTk5MzkgQzUxLjExMjI4OTksNTUuODQxNTg0MiA0MS42NzcxNzk1LDQ5LjIxMjIyODQgMjUuNjIzOTg0Niw0OS4yMTIyMjg0IEMyNS40ODQ5Mjg5LDQ5LjEyNjg0NDggMjkuODI2MTI5Niw0My4yODM4MjQ4IDM4LjY0NzU4NjksMzEuNjgzMTY4MyBMNzIuODcxMjg3MSwzMi41NTQ0MjUgTDY1LjI4MDk3Myw2Ny42NzYzNDIxIEw1MS4xMTIyODk5LDc3LjM3NjE0NCBMMzUuMDA3NzE4LDgwIFoiIGlkPSJQYXRoLTIyIiBmaWxsPSIjMDAyODY4Ij48L3BhdGg+CiAgICAgICAgICAgICAgICA8cGF0aCBkPSJNMCwzNy43MzA0NDA1IEwyNy4xMTQ1MzcsMC4yNTcxMTE0MzYgQzYyLjM3MTUxMjMsLTEuOTkwNzE3MDEgODAsMTAuNTAwMzkyNyA4MCwzNy43MzA0NDA1IEM4MCw2NC45NjA0ODgyIDY0Ljc3NjUwMzgsNzkuMDUwMzQxNCAzNC4zMjk1MTEzLDgwIEM0Ny4wNTUzNDg5LDc3LjU2NzA4MDggNTMuNDE4MjY3Nyw3MC4zMTM2MTAzIDUzLjQxODI2NzcsNTguMjM5NTg4NSBDNTMuNDE4MjY3Nyw0MC4xMjg1NTU3IDM2LjMwMzk1NDQsMzcuNzMwNDQwNSAyNS4yMjc0MTcsMzcuNzMwNDQwNSBDMTcuODQzMDU4NiwzNy43MzA0NDA1IDkuNDMzOTE5NjYsMzcuNzMwNDQwNSAwLDM3LjczMDQ0MDUgWiIgaWQ9IlBhdGgtMTkiIGZpbGw9IiMzNzkzRUYiPjwvcGF0aD4KICAgICAgICAgICAgPC9nPgogICAgICAgIDwvZz4KICAgIDwvZz4KPC9zdmc+' > </img>\nCreated in <span style='font-weight:600;margin-left:4px;'>Deepnote</span></a>",
   "metadata": {
    "tags": [],
    "created_in_deepnote_cell": true,
    "deepnote_cell_type": "markdown"
   }
  }
 ],
 "nbformat": 4,
 "nbformat_minor": 2,
 "metadata": {
  "orig_nbformat": 2,
  "deepnote": {
   "is_reactive": false
  },
  "deepnote_notebook_id": "1fc099e7-200a-43ac-87f8-404a3ed42061",
  "deepnote_execution_queue": []
 }
}